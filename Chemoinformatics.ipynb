{
 "cells": [
  {
   "cell_type": "markdown",
   "source": "# Retrosynthesis AI\n### Chemoinformatics Training I\nCreated by: Margaret Liñán MS MPH\n<img src=\"chem.png\" />\nIn this tutorial, you will learn how to utilize ChemSpider, ChEMBL and PubChem to build proficiency in molecular analyses and virtual screening with small molecule ligands.",
   "metadata": {
    "tags": [],
    "cell_id": "00000-06f75d06-f215-4f8b-ba02-28db85119dca",
    "deepnote_cell_type": "markdown"
   }
  },
  {
   "cell_type": "markdown",
   "source": "## Section 1 - Extracting Drug Data from ChEMBL \nChEMBL is a manually curated database of bioactive molecules with drug-like properties. It brings together chemical, bioactivity and genomic data to aid the translation of genomic information into effective new drugs. In the following exercises you will be trained to use ChEMBL's Web Client for extracting ChEMBL IDs, Synonyms, Indication Class, and whether it is ProDrug, Parenteral and Oral. You will also learn how to reformat JSON string output and generate molecular images.\n\n##### Notes\nThe following exercises were adapted from the ChEMBL web resource client examples on Binder\n\n##### Resources\n<a href=\"https://chembl.gitbook.io/chembl-interface-documentation/web-services/chembl-data-web-services\">ChEMBL Data Web Services</a> <br>\n<a href=\"https://bioservices.readthedocs.io/en/master/notebooks.html\">Bioservices</a>\n",
   "metadata": {
    "tags": [],
    "cell_id": "00000-2682369d-ff81-4f39-88aa-a987b33155b0",
    "deepnote_cell_type": "markdown"
   }
  },
  {
   "cell_type": "markdown",
   "source": "#### Find Single Drug attributes from ChEMBL such as Indication, ID, Oral, Parenteral and ProDrug \n    from chembl_webresource_client.new_client import new_client\n    import pandas as pd\n    molecule = new_client.molecule\n    mols = molecule.filter(molecule_synonyms__molecule_synonym__iexact='abacavir').only(['molecule_chembl_id','indication_class','oral','parenteral','prodrug'])\n\n#### Printing the ChEMBL results in different formats\n    print(\"ChEMBL Results JSON String\")\n    print(mols)\n    print(\"\")\n    print(\"\")\n    print(\"ChEMBL Results Table\")\n    df_list = pd.json_normalize(mols)\n    print(df_list)",
   "metadata": {
    "tags": [],
    "cell_id": "00002-06d6d133-15fc-4181-ae6e-5d34eceb3ba5",
    "deepnote_cell_type": "markdown"
   }
  },
  {
   "cell_type": "markdown",
   "source": "Try the above code by copying it into the cell below and hitting run, don't forget to activate the hardware by clicking on the circuit icon beneath the blue folder on the far upper right.",
   "metadata": {
    "tags": [],
    "cell_id": "00003-4ed46556-7122-46f5-9fd0-7741665feb6c",
    "deepnote_cell_type": "markdown"
   }
  },
  {
   "cell_type": "code",
   "metadata": {
    "tags": [],
    "cell_id": "00004-1fe7b5cc-97ec-4d42-964d-4bece9adc771",
    "deepnote_cell_type": "code"
   },
   "source": "### Paste code here",
   "execution_count": null,
   "outputs": []
  },
  {
   "cell_type": "markdown",
   "source": "### Let's now try the above code in a scenario where we need this information for multiple drugs.\n\n#### Find Multiple Drug attributes from ChEMBL such as Indication, ID, Oral, Parenteral and ProDrug \n    from chembl_webresource_client.new_client import new_client\n\n    molecule = new_client.molecule\n    mols = molecule.filter(molecule_chembl_id__in=['CHEMBL25', 'CHEMBL192', 'CHEMBL27']).only(['molecule_chembl_id','indication_class','oral','parenteral','prodrug','molecule_structures'])\n#### Printing the ChEMBL results in different formats\n    print(\"ChEMBL Results JSON String\")\n    print(mols)\n    print(\"\")\n    print(\"\")\n    print(\"ChEMBL Results Table\")\n    df_list = pd.json_normalize(mols)\n    print(df_list) ",
   "metadata": {
    "tags": [],
    "cell_id": "00003-68c6118f-855a-4348-af3a-c11033b434ad",
    "deepnote_cell_type": "markdown"
   }
  },
  {
   "cell_type": "markdown",
   "source": "Try the above code by copying it into the cell below and hitting run, don't forget to activate the hardware by clicking on the circuit icon beneath the blue folder on the far upper right.",
   "metadata": {
    "tags": [],
    "cell_id": "00006-68d370ab-fba0-4083-a860-49efa047ff41",
    "deepnote_cell_type": "markdown"
   }
  },
  {
   "cell_type": "code",
   "metadata": {
    "tags": [],
    "cell_id": "00007-c04e4488-237b-472b-948b-ab4bd4fb49a9",
    "deepnote_to_be_reexecuted": false,
    "source_hash": "26da8bfc",
    "execution_start": 1639170182383,
    "execution_millis": 0,
    "deepnote_cell_type": "code"
   },
   "source": "### Paste code here",
   "execution_count": null,
   "outputs": []
  },
  {
   "cell_type": "markdown",
   "source": "### Here we use the ChEMBL web resource to generate an image of the drug by using it's ChEMBL ID.\n\n    from chembl_webresource_client.new_client import new_client\n    from IPython.display import SVG\n\n    image = new_client.image\n    image.set_format('svg')\n    SVG(image.get('CHEMBL1201179'))\n\n<img src=\"chem_structure.png\" />",
   "metadata": {
    "tags": [],
    "cell_id": "00005-16092d95-15d5-416c-99a3-62fabec18e27",
    "deepnote_cell_type": "markdown"
   }
  },
  {
   "cell_type": "code",
   "metadata": {
    "tags": [],
    "cell_id": "00004-082402f9-c0b4-423d-a80a-5e6d51722896",
    "deepnote_to_be_reexecuted": false,
    "source_hash": "7e630e0f",
    "execution_start": 1639354672759,
    "execution_millis": 3,
    "deepnote_output_heights": [
     502
    ],
    "deepnote_cell_type": "code"
   },
   "source": "## Paste code here",
   "execution_count": null,
   "outputs": []
  },
  {
   "cell_type": "markdown",
   "source": "### View the full attributes list for a specific drug by ChEMBL ID\n\n    import pandas as pd\n    from bioservices import ChEMBL\n\n    c = ChEMBL()\n    c.get_drug('CHEMBL1380', limit=10, offset=0, filters=None)\n",
   "metadata": {
    "tags": [],
    "cell_id": "00005-6c32334b-aa83-4cf1-abc0-d2beff67c796",
    "deepnote_cell_type": "markdown"
   }
  },
  {
   "cell_type": "code",
   "metadata": {
    "tags": [],
    "cell_id": "00003-9c1cc6c7-2685-4f6b-9792-70c369255af7",
    "deepnote_to_be_reexecuted": false,
    "source_hash": "7e630e0f",
    "execution_start": 1639354860990,
    "execution_millis": 0,
    "deepnote_output_heights": [
     null,
     611
    ],
    "deepnote_cell_type": "code"
   },
   "source": "## Paste code here",
   "execution_count": null,
   "outputs": []
  },
  {
   "cell_type": "markdown",
   "source": "## Section 2 - Protein Targets, Mechanisms of Action, Bioactivity\nIn these exercises you will learn how to find protein targets by ChEMBL ID and gene name, as well as find a drug's mechanism of action and bioactivity.\n\n##### Notes\nThe following exercises were adapted from the ChEMBL web resource client examples on Binder\n\n##### Resources\n<a href=\"https://chembl.gitbook.io/chembl-interface-documentation/web-services/chembl-data-web-services\">ChEMBL Data Web Services</a> <br>\n<a href=\"https://bioservices.readthedocs.io/en/master/notebooks.html\">Bioservices</a>\n",
   "metadata": {
    "tags": [],
    "cell_id": "00009-a98dfaa0-a92c-497e-bcf8-b1a6ac859c78",
    "deepnote_cell_type": "markdown"
   }
  },
  {
   "cell_type": "markdown",
   "source": "### Protein Targets by ChEMBL ID using ChEMBL web resource and BioServices\n\n    from chembl_webresource_client.new_client import new_client\n\n    target = new_client.target\n    chembl_id = ['CHEMBL3938']\n    res = target.filter(target_chembl_id=chembl_id).only(['molecule_synonym', 'organism', 'pref_name', 'target_type'])\n    for i in res:\n        print(i)",
   "metadata": {
    "tags": [],
    "cell_id": "00010-1af65aa1-8b31-4b90-873d-1c13859e7c70",
    "deepnote_cell_type": "markdown"
   }
  },
  {
   "cell_type": "code",
   "metadata": {
    "tags": [],
    "cell_id": "00010-40252ab9-880d-4db8-9b26-beda4f45e928",
    "deepnote_to_be_reexecuted": false,
    "source_hash": "7e630e0f",
    "execution_start": 1639356174253,
    "execution_millis": 1,
    "deepnote_output_heights": [
     611,
     155.60000610351562
    ],
    "deepnote_cell_type": "code"
   },
   "source": "## Paste code here",
   "execution_count": null,
   "outputs": []
  },
  {
   "cell_type": "markdown",
   "source": "    from bioservices import *\n    import pandas as pd\n\n    c = ChEMBL(verbose=False)\n\n    ## Return all Protein Targets that contain the term 'kinase' in the pref_name attribute:\n    res = c.get_target('CHEMBL3938', limit=None, offset=0, filters=\"pref_name__contains=kinase\")\n \n    print(res)",
   "metadata": {
    "tags": [],
    "cell_id": "00016-0ce80305-084e-4604-b7fb-06b93122bdef",
    "deepnote_cell_type": "markdown"
   }
  },
  {
   "cell_type": "code",
   "metadata": {
    "tags": [],
    "cell_id": "00012-fc417422-7a8b-4c84-9c7a-a0953dc1e5ce",
    "deepnote_to_be_reexecuted": false,
    "source_hash": "85c1190c",
    "execution_start": 1639356223983,
    "execution_millis": 6,
    "deepnote_output_heights": [
     21.199996948242188,
     597.2000122070312
    ],
    "deepnote_cell_type": "code"
   },
   "source": "## Paste code here\n",
   "execution_count": null,
   "outputs": []
  },
  {
   "cell_type": "markdown",
   "source": "",
   "metadata": {
    "tags": [],
    "cell_id": "00010-8676e87b-2484-44aa-bbd3-28488c5a59a7",
    "deepnote_cell_type": "markdown"
   }
  },
  {
   "cell_type": "markdown",
   "source": "### Protein Targets by Gene Name [ChEMBL]\n\n    from chembl_webresource_client.new_client import new_client\n\n    target = new_client.target\n    gene_name = ['BRD4']\n    res = target.filter(target_synonym__icontains=gene_name).only(['organism', 'pref_name', 'target_type'])\n    for i in res:\n        print(i)",
   "metadata": {
    "tags": [],
    "cell_id": "00010-328ffcaa-e302-46ae-bf40-3d3721d3d46b",
    "deepnote_cell_type": "markdown"
   }
  },
  {
   "cell_type": "code",
   "metadata": {
    "tags": [],
    "cell_id": "00004-19ff4961-a092-4638-baef-0a9796022998",
    "deepnote_to_be_reexecuted": false,
    "source_hash": "85c1190c",
    "execution_start": 1639356655009,
    "execution_millis": 0,
    "deepnote_cell_type": "code"
   },
   "source": "## Paste code here\n",
   "execution_count": null,
   "outputs": []
  },
  {
   "cell_type": "markdown",
   "source": "### Mechanisms of Action for FDA-approved Drugs with BioServices\n\n    from bioservices import *\n    import pandas as pd\n\n    m = ChEMBL(verbose=False)\n\n    ## Return all Mechanisms of Action that contain the molecule ChEMBL IDs: CHEMBL25, \n    ## Note that there is information for only a subset of all ChEMBL IDs\n    \n    mech = m.get_mechanism(filters='molecule_chembl_id__in=CHEMBL25')\n\n    print(mech)",
   "metadata": {
    "tags": [],
    "cell_id": "00011-8cf9080b-09ef-45b4-ae81-3f73bb83da1c",
    "deepnote_cell_type": "markdown"
   }
  },
  {
   "cell_type": "code",
   "metadata": {
    "tags": [],
    "cell_id": "00012-8fd59be1-74bc-4d20-9019-b37001e3f499",
    "deepnote_to_be_reexecuted": false,
    "source_hash": "9334f1c9",
    "execution_start": 1639356745106,
    "execution_millis": 5,
    "deepnote_output_heights": [
     null,
     22.199996948242188
    ],
    "deepnote_cell_type": "code"
   },
   "source": "## Paste code here\n\n ",
   "execution_count": null,
   "outputs": []
  },
  {
   "cell_type": "markdown",
   "source": "## Section 3 - Finding drugs that are similar\n\nIn these exercises you will learn how to find similar drugs using their ChEMBL IDs, SMILES and similiarity threshold. \n\n##### Notes\nThe following exercises were adapted from the ChEMBL web resource client examples on Binder\n\n##### Resources\n<a href=\"https://chembl.gitbook.io/chembl-interface-documentation/web-services/chembl-data-web-services\">ChEMBL Data Web Services</a> <br>\n \n",
   "metadata": {
    "tags": [],
    "cell_id": "00011-7a7cddd6-d57f-4ba0-83e4-bd501b9cc04f",
    "deepnote_cell_type": "markdown"
   }
  },
  {
   "cell_type": "markdown",
   "source": "### Using ChEMBL ID and similarity threshold\n\n    from chembl_webresource_client.new_client import new_client\n\n    similarity = new_client.similarity\n    ## Below, the similarity var represents a threshold\n    res = similarity.filter(chembl_id='CHEMBL25', similarity=70).only(['molecule_chembl_id', 'pref_name', 'similarity'])\n\n    for h in res:\n        print(h)\n",
   "metadata": {
    "tags": [],
    "cell_id": "00024-b695a7fe-b2a1-49f3-a299-41f9abfaeef7",
    "deepnote_cell_type": "markdown"
   }
  },
  {
   "cell_type": "code",
   "metadata": {
    "tags": [],
    "cell_id": "00012-bbbf6256-6f7a-4e97-8a16-c52391868f08",
    "deepnote_to_be_reexecuted": false,
    "source_hash": "85c1190c",
    "execution_start": 1639357400713,
    "execution_millis": 1,
    "deepnote_output_heights": [
     38.19999694824219
    ],
    "deepnote_cell_type": "code"
   },
   "source": "## Paste code here\n",
   "execution_count": null,
   "outputs": []
  },
  {
   "cell_type": "markdown",
   "source": "### Using SMILES and similarity threshold\n\n    from chembl_webresource_client.new_client import new_client\n\n    similarity = new_client.similarity\n    res = similarity.filter(smiles=\"CO[C@@H](CCC#C\\C=C/CCCC(C)CCCCC=C)C(=O)[O-]\", similarity=70).only(['molecule_chembl_id', 'similarity'])\n    for i in res:\n        print(i)",
   "metadata": {
    "tags": [],
    "cell_id": "00026-18aebfb5-db2e-4378-9c38-1f5e4bd94d7e",
    "deepnote_cell_type": "markdown"
   }
  },
  {
   "cell_type": "code",
   "metadata": {
    "tags": [],
    "cell_id": "00013-607c3285-805f-4d72-bd05-fa3a3b1bdec1",
    "deepnote_to_be_reexecuted": false,
    "source_hash": "85c1190c",
    "execution_start": 1639357459298,
    "execution_millis": 1,
    "deepnote_cell_type": "code"
   },
   "source": "## Paste code here\n",
   "execution_count": null,
   "outputs": []
  },
  {
   "cell_type": "markdown",
   "source": "## Section 4 - Find disease specific drugs with similiar connectivity\n\nFind drugs for a specific disease, then find drugs and those with similiar connectivity\n\n\n##### Notes\nThe following exercises were adapted from the ChEMBL web resource client examples on Binder\n\n##### Resources\n<a href=\"https://chembl.gitbook.io/chembl-interface-documentation/web-services/chembl-data-web-services\">ChEMBL Data Web Services</a> <br>\n\n",
   "metadata": {
    "tags": [],
    "cell_id": "00015-901cebd6-3079-492f-a250-d1f9417fcae0",
    "deepnote_cell_type": "markdown"
   }
  },
  {
   "cell_type": "markdown",
   "source": "### Disease specific drugs \n\n    from chembl_webresource_client.new_client import new_client\n\n    drug_indication = new_client.drug_indication\n    molecules = new_client.molecule\n\n    lung_cancer_ind = drug_indication.filter(efo_term__icontains=\"LUNG CARCINOMA\")\n    lung_cancer_mols = molecules.filter(\n        molecule_chembl_id__in=[x['molecule_chembl_id'] for x in lung_cancer_ind])\n\n    print(\"The total number of drugs for Lung Cancer: \", len(lung_cancer_mols))\n    print(\"\")\n    \n    ## Remove [0:5] to output all results\n    subset = lung_cancer_mols[0:5] \n    print(\"Here is the subset\")\n    print(\"-----------------------------------------------------------------------\")\n    for i in subset:\n        print(i)",
   "metadata": {
    "tags": [],
    "cell_id": "00029-dea8c142-8529-45b2-99dc-d32bb0ea8ff4",
    "deepnote_cell_type": "markdown"
   }
  },
  {
   "cell_type": "code",
   "metadata": {
    "tags": [],
    "cell_id": "00016-a5867669-e1c0-4a7c-a6c8-2ede3f8a5cc5",
    "deepnote_to_be_reexecuted": false,
    "source_hash": "85c1190c",
    "execution_start": 1639358298729,
    "execution_millis": 1,
    "deepnote_output_heights": [
     21.199996948242188
    ],
    "deepnote_cell_type": "code"
   },
   "source": "## Paste code here\n",
   "execution_count": null,
   "outputs": []
  },
  {
   "cell_type": "markdown",
   "source": "### Drugs with Similar Connectivity\n\n    from chembl_webresource_client.new_client import new_client\n\n    molecule = new_client.molecule\n    res = molecule.filter(molecule_structures__canonical_smiles__connectivity='CN(C)C(=N)N=C(N)N').only(['molecule_chembl_id', 'pref_name'])\n    for i in res:\n        print(i)\n",
   "metadata": {
    "tags": [],
    "cell_id": "00031-10defdf2-39f4-4f8a-a03e-f3c3e9c94ce6",
    "deepnote_cell_type": "markdown"
   }
  },
  {
   "cell_type": "code",
   "metadata": {
    "tags": [],
    "cell_id": "00016-cb0ed70c-fac9-4bc8-9ec9-3c7d2de468b4",
    "deepnote_to_be_reexecuted": false,
    "source_hash": "d3e0ba76",
    "execution_start": 1639358347138,
    "execution_millis": 0,
    "deepnote_cell_type": "code"
   },
   "source": "## Paste code here\n",
   "execution_count": null,
   "outputs": []
  },
  {
   "cell_type": "markdown",
   "source": "<br>\n<br>\n\n## [Back](00_getting_started.ipynb)",
   "metadata": {
    "tags": [],
    "cell_id": "00005-c93c0852-5e0b-4b37-aaad-8e19b0955ecd",
    "deepnote_cell_type": "markdown"
   }
  },
  {
   "cell_type": "markdown",
   "source": "<a style='text-decoration:none;line-height:16px;display:flex;color:#5B5B62;padding:10px;justify-content:end;' href='https://deepnote.com?utm_source=created-in-deepnote-cell&projectId=367703e1-92f2-45b8-a3b3-39f4563b698f' target=\"_blank\">\n<img alt='Created in deepnote.com' style='display:inline;max-height:16px;margin:0px;margin-right:7.5px;' src='data:image/svg+xml;base64,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' > </img>\nCreated in <span style='font-weight:600;margin-left:4px;'>Deepnote</span></a>",
   "metadata": {
    "tags": [],
    "created_in_deepnote_cell": true,
    "deepnote_cell_type": "markdown"
   }
  }
 ],
 "nbformat": 4,
 "nbformat_minor": 2,
 "metadata": {
  "orig_nbformat": 2,
  "deepnote": {
   "is_reactive": false
  },
  "deepnote_notebook_id": "b9694295-92fc-4a3f-98b3-f31609abf37a",
  "deepnote_execution_queue": []
 }
}
